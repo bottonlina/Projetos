{
  "nbformat": 4,
  "nbformat_minor": 0,
  "metadata": {
    "colab": {
      "name": "Untitled18.ipynb",
      "provenance": [],
      "collapsed_sections": [],
      "authorship_tag": "ABX9TyOMtQ6OHHzfY+QJCd2CAoik"
    },
    "kernelspec": {
      "name": "python3",
      "display_name": "Python 3"
    },
    "language_info": {
      "name": "python"
    }
  },
  "cells": [
    {
      "cell_type": "markdown",
      "source": [
        "### Revisão de Imposto de Renda dos funcionários"
      ],
      "metadata": {
        "id": "DPxPiXp3BgdC"
      }
    },
    {
      "cell_type": "markdown",
      "source": [
        "#### Valor de imposto - cálculo colaborador"
      ],
      "metadata": {
        "id": "XdwJh6CyGX2p"
      }
    },
    {
      "cell_type": "code",
      "execution_count": null,
      "metadata": {
        "id": "5wulpFIIBZri"
      },
      "outputs": [],
      "source": [
        "salario = 2000\n",
        "salario = float(input(\"Digite o salário do colaborador: \"))\n",
        "\n",
        "if salario <= 1903.98:\n",
        "  print(f\"O colaborador está isento de imposto!\")\n",
        "elif salario <= 2826.65:\n",
        "  print(f\"O colaborador deve pagar R$: 142,80 de imposto de renda.\")\n",
        "elif salario <= 3751.05:\n",
        "  print(f\"O colaborador deve pagar R$: 354,80 de imposto de renda.\")\n",
        "elif salario <= 4664.68:\n",
        "  print(f\"O colaborador deve pagar R$: 636,13 de imposto de renda.\")\n",
        "else:\n",
        "  print(\"O colaborador deve pagar R$: 869,36 de imposto de renda\")"
      ]
    },
    {
      "cell_type": "markdown",
      "source": [
        "### Cálculo de Holerites"
      ],
      "metadata": {
        "id": "WV3jOyYgE8kP"
      }
    },
    {
      "cell_type": "markdown",
      "source": [
        "##### (com desconto de Imposto de Renda)"
      ],
      "metadata": {
        "id": "Muqda2abGN_v"
      }
    },
    {
      "cell_type": "code",
      "source": [
        "salario = 2000\n",
        "salario = float(input(\"Digite o salário do colaborador: \"))\n",
        "\n",
        "if salario <= 1903.98:\n",
        "  print(f\"O colaborador está isento de imposto!\")\n",
        "  print(f\"Salário a receber = {salario}\")\n",
        "elif salario <= 2826.65:\n",
        "  print(f\"O colaborador deve pagar R$: 142,80 de imposto de renda.\")\n",
        "  print(f\"Salário a receber = {salario - 142.80}\")\n",
        "elif salario <= 3751.05:\n",
        "  print(f\"O colaborador deve pagar R$: 354,80 de imposto de renda.\")\n",
        "  print(f\"Salário a receber = {salario - 354.80}\")\n",
        "elif salario <= 4664.68:\n",
        "  print(f\"O colaborador deve pagar R$: 636,13 de imposto de renda.\")\n",
        "  print(f\"Salário a receber = {salario - 636.13}\")\n",
        "else:\n",
        "  print(\"O colaborador deve pagar R$: 869,36 de imposto de renda\")\n",
        "  print(f\"Salário a receber = {salario - 869.36}\")"
      ],
      "metadata": {
        "id": "UUZZotNWEvUC"
      },
      "execution_count": null,
      "outputs": []
    }
  ]
}